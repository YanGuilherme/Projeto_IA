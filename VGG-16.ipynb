{
  "cells": [
    {
      "cell_type": "markdown",
      "metadata": {
        "id": "SC5YB4o19sof"
      },
      "source": [
        "SIN-323 - Inteligência Artificial\n",
        "\n",
        "\n",
        "\n",
        "---"
      ]
    },
    {
      "cell_type": "markdown",
      "metadata": {
        "id": "IeGxlUUV9teG"
      },
      "source": [
        "## Montando o Google Drive\n",
        "---"
      ]
    },
    {
      "cell_type": "code",
      "execution_count": null,
      "metadata": {
        "colab": {
          "base_uri": "https://localhost:8080/"
        },
        "id": "t27aPR3d9tCO",
        "outputId": "7a0d1a99-8be8-4dcf-aec6-53423cbf3018"
      },
      "outputs": [
        {
          "output_type": "stream",
          "name": "stdout",
          "text": [
            "True\n",
            "Mounted at /content/drive\n"
          ]
        }
      ],
      "source": [
        "try:\n",
        "    import google.colab\n",
        "    IN_COLAB = True\n",
        "except:\n",
        "    IN_COLAB = False\n",
        "\n",
        "# DEBUG\n",
        "print(IN_COLAB)\n",
        "\n",
        "if IN_COLAB:\n",
        "    from google.colab import drive\n",
        "    drive.mount('/content/drive')"
      ]
    },
    {
      "cell_type": "markdown",
      "metadata": {
        "id": "ZlytMU6-rtms"
      },
      "source": [
        "## Importando as bibliotecas\n",
        "---\n"
      ]
    },
    {
      "cell_type": "code",
      "execution_count": null,
      "metadata": {
        "colab": {
          "base_uri": "https://localhost:8080/"
        },
        "id": "A6jTuyzu9yqE",
        "outputId": "0361385e-8a1c-46ad-e486-82833eef80f0"
      },
      "outputs": [
        {
          "output_type": "stream",
          "name": "stderr",
          "text": [
            "Downloading: \"https://github.com/pytorch/vision/zipball/v0.10.0\" to /root/.cache/torch/hub/v0.10.0.zip\n",
            "/usr/local/lib/python3.10/dist-packages/torchvision/models/_utils.py:208: UserWarning: The parameter 'pretrained' is deprecated since 0.13 and may be removed in the future, please use 'weights' instead.\n",
            "  warnings.warn(\n",
            "/usr/local/lib/python3.10/dist-packages/torchvision/models/_utils.py:223: UserWarning: Arguments other than a weight enum or `None` for 'weights' are deprecated since 0.13 and may be removed in the future. The current behavior is equivalent to passing `weights=VGG16_Weights.IMAGENET1K_V1`. You can also use `weights=VGG16_Weights.DEFAULT` to get the most up-to-date weights.\n",
            "  warnings.warn(msg)\n",
            "Downloading: \"https://download.pytorch.org/models/vgg16-397923af.pth\" to /root/.cache/torch/hub/checkpoints/vgg16-397923af.pth\n",
            "100%|██████████| 528M/528M [00:05<00:00, 106MB/s]\n"
          ]
        },
        {
          "output_type": "execute_result",
          "data": {
            "text/plain": [
              "VGG(\n",
              "  (features): Sequential(\n",
              "    (0): Conv2d(3, 64, kernel_size=(3, 3), stride=(1, 1), padding=(1, 1))\n",
              "    (1): ReLU(inplace=True)\n",
              "    (2): Conv2d(64, 64, kernel_size=(3, 3), stride=(1, 1), padding=(1, 1))\n",
              "    (3): ReLU(inplace=True)\n",
              "    (4): MaxPool2d(kernel_size=2, stride=2, padding=0, dilation=1, ceil_mode=False)\n",
              "    (5): Conv2d(64, 128, kernel_size=(3, 3), stride=(1, 1), padding=(1, 1))\n",
              "    (6): ReLU(inplace=True)\n",
              "    (7): Conv2d(128, 128, kernel_size=(3, 3), stride=(1, 1), padding=(1, 1))\n",
              "    (8): ReLU(inplace=True)\n",
              "    (9): MaxPool2d(kernel_size=2, stride=2, padding=0, dilation=1, ceil_mode=False)\n",
              "    (10): Conv2d(128, 256, kernel_size=(3, 3), stride=(1, 1), padding=(1, 1))\n",
              "    (11): ReLU(inplace=True)\n",
              "    (12): Conv2d(256, 256, kernel_size=(3, 3), stride=(1, 1), padding=(1, 1))\n",
              "    (13): ReLU(inplace=True)\n",
              "    (14): Conv2d(256, 256, kernel_size=(3, 3), stride=(1, 1), padding=(1, 1))\n",
              "    (15): ReLU(inplace=True)\n",
              "    (16): MaxPool2d(kernel_size=2, stride=2, padding=0, dilation=1, ceil_mode=False)\n",
              "    (17): Conv2d(256, 512, kernel_size=(3, 3), stride=(1, 1), padding=(1, 1))\n",
              "    (18): ReLU(inplace=True)\n",
              "    (19): Conv2d(512, 512, kernel_size=(3, 3), stride=(1, 1), padding=(1, 1))\n",
              "    (20): ReLU(inplace=True)\n",
              "    (21): Conv2d(512, 512, kernel_size=(3, 3), stride=(1, 1), padding=(1, 1))\n",
              "    (22): ReLU(inplace=True)\n",
              "    (23): MaxPool2d(kernel_size=2, stride=2, padding=0, dilation=1, ceil_mode=False)\n",
              "    (24): Conv2d(512, 512, kernel_size=(3, 3), stride=(1, 1), padding=(1, 1))\n",
              "    (25): ReLU(inplace=True)\n",
              "    (26): Conv2d(512, 512, kernel_size=(3, 3), stride=(1, 1), padding=(1, 1))\n",
              "    (27): ReLU(inplace=True)\n",
              "    (28): Conv2d(512, 512, kernel_size=(3, 3), stride=(1, 1), padding=(1, 1))\n",
              "    (29): ReLU(inplace=True)\n",
              "    (30): MaxPool2d(kernel_size=2, stride=2, padding=0, dilation=1, ceil_mode=False)\n",
              "  )\n",
              "  (avgpool): AdaptiveAvgPool2d(output_size=(7, 7))\n",
              "  (classifier): Sequential(\n",
              "    (0): Linear(in_features=25088, out_features=4096, bias=True)\n",
              "    (1): ReLU(inplace=True)\n",
              "    (2): Dropout(p=0.5, inplace=False)\n",
              "    (3): Linear(in_features=4096, out_features=4096, bias=True)\n",
              "    (4): ReLU(inplace=True)\n",
              "    (5): Dropout(p=0.5, inplace=False)\n",
              "    (6): Linear(in_features=4096, out_features=1000, bias=True)\n",
              "  )\n",
              ")"
            ]
          },
          "metadata": {},
          "execution_count": 2
        }
      ],
      "source": [
        "import os\n",
        "import random\n",
        "import time\n",
        "import platform\n",
        "\n",
        "import numpy as np\n",
        "import matplotlib.pyplot as plt\n",
        "from sklearn import metrics\n",
        "\n",
        "import torch\n",
        "import torch.nn.functional as F\n",
        "from torch import nn, optim\n",
        "from torch.optim import lr_scheduler\n",
        "\n",
        "from torchvision import transforms, models, datasets, utils\n",
        "\n",
        "# Carregando o modelo VGG pré-treinado\n",
        "import torch\n",
        "model = torch.hub.load('pytorch/vision:v0.10.0', 'vgg16', pretrained=True)\n",
        "model.eval()\n"
      ]
    },
    {
      "cell_type": "markdown",
      "metadata": {
        "id": "Va2vQIXcruAI"
      },
      "source": [
        "# Configurações para reprodutibilidade\n",
        "---\n",
        "* Operações envolvendo Redes Neurais Convolucionais utilizam números aleatórios.\n",
        "* Ao executarmos um determinado experimento várias vezes, os resultados podem apresentar alguma pequena variação, mesmo utilizando os mesmos dados, modelos e hiperparâmetros.\n",
        "* Dessa forma, às vezes, é interessante fixar as sementes dos geradores de números aleatórios para reproduzir os resultados em diferentes execuções dos experimentos.\n"
      ]
    },
    {
      "cell_type": "code",
      "execution_count": null,
      "metadata": {
        "id": "WpUnZInSruRw"
      },
      "outputs": [],
      "source": [
        "SEED = 42\n",
        "\n",
        "random.seed(SEED)\n",
        "np.random.seed(SEED)\n",
        "\n",
        "torch.manual_seed(SEED)\n",
        "torch.cuda.manual_seed(SEED)\n",
        "\n",
        "torch.backends.cudnn.benchmark = False\n",
        "torch.backends.cudnn.deterministic = True"
      ]
    },
    {
      "cell_type": "markdown",
      "metadata": {
        "id": "WIMItCIL90rf"
      },
      "source": [
        "## Verificando o acesso à GPU\n",
        "---\n",
        "* Editar >> Configurações de notebook >> Acelerador de hardware\n",
        "* Selecione GPU\n",
        "* OK"
      ]
    },
    {
      "cell_type": "code",
      "execution_count": null,
      "metadata": {
        "colab": {
          "base_uri": "https://localhost:8080/"
        },
        "id": "XUp_LfwQrhIJ",
        "outputId": "726a077c-1289-42a1-fddc-cd629d4a31ab"
      },
      "outputs": [
        {
          "output_type": "stream",
          "name": "stdout",
          "text": [
            "\n",
            "Device: cuda\n"
          ]
        }
      ],
      "source": [
        "# Verifica se a GPU está disponível\n",
        "DEVICE = torch.device('cuda' if torch.cuda.is_available() else 'cpu')\n",
        "print('\\nDevice: {0}'.format(DEVICE))"
      ]
    },
    {
      "cell_type": "code",
      "execution_count": null,
      "metadata": {
        "colab": {
          "base_uri": "https://localhost:8080/"
        },
        "id": "j1gVKUXLKaJQ",
        "outputId": "46404aba-d306-4061-c2ec-0e8bb0c5f5b8"
      },
      "outputs": [
        {
          "output_type": "stream",
          "name": "stdout",
          "text": [
            "Fri Dec  8 11:40:19 2023       \n",
            "+-----------------------------------------------------------------------------+\n",
            "| NVIDIA-SMI 525.105.17   Driver Version: 525.105.17   CUDA Version: 12.0     |\n",
            "|-------------------------------+----------------------+----------------------+\n",
            "| GPU  Name        Persistence-M| Bus-Id        Disp.A | Volatile Uncorr. ECC |\n",
            "| Fan  Temp  Perf  Pwr:Usage/Cap|         Memory-Usage | GPU-Util  Compute M. |\n",
            "|                               |                      |               MIG M. |\n",
            "|===============================+======================+======================|\n",
            "|   0  Tesla T4            Off  | 00000000:00:04.0 Off |                    0 |\n",
            "| N/A   34C    P8     9W /  70W |      3MiB / 15360MiB |      0%      Default |\n",
            "|                               |                      |                  N/A |\n",
            "+-------------------------------+----------------------+----------------------+\n",
            "                                                                               \n",
            "+-----------------------------------------------------------------------------+\n",
            "| Processes:                                                                  |\n",
            "|  GPU   GI   CI        PID   Type   Process name                  GPU Memory |\n",
            "|        ID   ID                                                   Usage      |\n",
            "|=============================================================================|\n",
            "|  No running processes found                                                 |\n",
            "+-----------------------------------------------------------------------------+\n"
          ]
        }
      ],
      "source": [
        "!nvidia-smi"
      ]
    },
    {
      "cell_type": "code",
      "execution_count": null,
      "metadata": {
        "id": "AHSWRFtLo1Xo"
      },
      "outputs": [],
      "source": [
        "if IN_COLAB:\n",
        "    ds_path = '/content/drive/My Drive/Dataset/pastas/pastas2/'"
      ]
    },
    {
      "cell_type": "markdown",
      "metadata": {
        "id": "TrlJpdOPsygL"
      },
      "source": [
        "# Definimos alguns hiperparâmetros\n",
        "---"
      ]
    },
    {
      "cell_type": "code",
      "execution_count": null,
      "metadata": {
        "id": "3DAd4yFEsw-l"
      },
      "outputs": [],
      "source": [
        "# Número de classes\n",
        "num_classes = 3\n",
        "\n",
        "# Nomes das classes\n",
        "class_names = ['Healthy', 'Diabrotica speciosa', 'Caterpillar']\n",
        "\n",
        "# Tamanho do lote (mini-batch)\n",
        "batch_size = 64\n",
        "\n",
        "# Taxa de aprendizado\n",
        "lr = 0.001\n",
        "\n",
        "# Mommentum\n",
        "mm = 0.9\n",
        "\n",
        "# Número de épocas\n",
        "epochs = 50 # Usar durante o desenvolvimento\n",
        "### epochs = 50"
      ]
    },
    {
      "cell_type": "code",
      "execution_count": null,
      "metadata": {
        "colab": {
          "base_uri": "https://localhost:8080/"
        },
        "id": "ZNc711v3pTrn",
        "outputId": "b6595571-7ce8-4904-af46-8b3b61306c4a"
      },
      "outputs": [
        {
          "output_type": "stream",
          "name": "stdout",
          "text": [
            "Drive already mounted at /content/drive; to attempt to forcibly remount, call drive.mount(\"/content/drive\", force_remount=True).\n"
          ]
        }
      ],
      "source": [
        "from google.colab import drive\n",
        "drive.mount('/content/drive')"
      ]
    },
    {
      "cell_type": "markdown",
      "metadata": {
        "id": "tdPuGQrJ96lX"
      },
      "source": [
        "## Preparando o conjunto de dados\n",
        "---"
      ]
    },
    {
      "cell_type": "code",
      "execution_count": null,
      "metadata": {
        "id": "Z_s9-sq6sbdx"
      },
      "outputs": [],
      "source": [
        "# Treinamento\n",
        "data_transforms = transforms.Compose([\n",
        "    transforms.Resize(size=(224, 224)),\n",
        "    transforms.ToTensor(),\n",
        "    ### transforms.Normalize([0.5, 0.5, 0.5], [0.5, 0.5, 0.5])\n",
        "    # Média e desvio padrão do ImageNet.\n",
        "    transforms.Normalize([0.485, 0.456, 0.406], [0.229, 0.224, 0.225])\n",
        "])\n",
        "\n",
        "full_dataset = datasets.ImageFolder(ds_path, transform=data_transforms)"
      ]
    },
    {
      "cell_type": "markdown",
      "metadata": {
        "id": "FWB-lTM2xbFv"
      },
      "source": [
        "## Spliting the dataset in training and test sets\n",
        "---\n"
      ]
    },
    {
      "cell_type": "code",
      "execution_count": null,
      "metadata": {
        "colab": {
          "base_uri": "https://localhost:8080/"
        },
        "id": "_qiKOjuzxflo",
        "outputId": "f01b1240-4976-4d75-e551-98d85846a6eb"
      },
      "outputs": [
        {
          "output_type": "stream",
          "name": "stdout",
          "text": [
            "Treino: 3852\n",
            "Teste: 1284\n",
            "Validação: 1284\n"
          ]
        }
      ],
      "source": [
        "# Tamanho do dataset completo\n",
        "full_size = len(full_dataset)\n",
        "\n",
        "# Tamanhos dos conjuntos\n",
        "train_size = int(0.6 * full_size)\n",
        "test_size = int(0.2 * full_size)\n",
        "val_size = full_size - train_size - test_size\n",
        "\n",
        "# Divisão dos datasets\n",
        "train_dataset, test_dataset, val_dataset = torch.utils.data.random_split(full_dataset, [train_size, test_size, val_size])\n",
        "\n",
        "# DEBUG\n",
        "print('Treino:', len(train_dataset))\n",
        "print('Teste:', len(test_dataset))\n",
        "print('Validação:', len(val_dataset))\n",
        "\n",
        "# Aumento de Dados no Treino\n",
        "data_transforms_train = transforms.Compose([\n",
        "    transforms.Resize(size=(224, 224)),\n",
        "    transforms.RandomRotation(degrees=30),\n",
        "    transforms.RandomHorizontalFlip(),\n",
        "    transforms.ToTensor(),\n",
        "    ### transforms.Normalize([0.5, 0.5, 0.5], [0.5, 0.5, 0.5])\n",
        "    # Média e desvio padrão do ImageNet.\n",
        "    transforms.Normalize([0.485, 0.456, 0.406], [0.229, 0.224, 0.225])\n",
        "])\n",
        "train_dataset.dataset.transform = data_transforms_train\n",
        "\n",
        "# Definindo os dataloaders\n",
        "batch_size = 64  # ou qualquer outro valor que você escolher\n",
        "train_dataloader = torch.utils.data.DataLoader(dataset=train_dataset, batch_size=batch_size)\n",
        "test_dataloader = torch.utils.data.DataLoader(dataset=test_dataset, batch_size=batch_size)\n",
        "val_dataloader = torch.utils.data.DataLoader(dataset=val_dataset, batch_size=batch_size)\n",
        "\n"
      ]
    },
    {
      "cell_type": "markdown",
      "metadata": {
        "id": "BMqpEsSxzfGa"
      },
      "source": [
        "## Using a pretrainned model (fine-tunning)\n",
        "---\n"
      ]
    },
    {
      "cell_type": "code",
      "execution_count": null,
      "metadata": {
        "id": "CvsZOJDizeBl"
      },
      "outputs": [],
      "source": [
        "### model_ft = models.alexnet(pretrained=True)\n",
        "model_ft = models.vgg16(pretrained='imagenet')\n",
        "\n",
        "# Altera o número de neurônios na cadama de saída.\n",
        "model_ft.classifier[6] = nn.Linear(4096, num_classes)"
      ]
    },
    {
      "cell_type": "markdown",
      "metadata": {
        "id": "a3_X0Kk10hPf"
      },
      "source": [
        "## Selecionando o modelo\n",
        "---"
      ]
    },
    {
      "cell_type": "code",
      "execution_count": null,
      "metadata": {
        "id": "3T-pEXZq0g4T"
      },
      "outputs": [],
      "source": [
        "# Simple net\n",
        "### model = Net(3, 5)\n",
        "\n",
        "# Pretrainned\n",
        "model = model_ft\n"
      ]
    },
    {
      "cell_type": "code",
      "execution_count": null,
      "metadata": {
        "colab": {
          "base_uri": "https://localhost:8080/"
        },
        "id": "p2n2EjOb8fET",
        "outputId": "b72e4219-786d-4153-832b-dd4f21210750"
      },
      "outputs": [
        {
          "output_type": "stream",
          "name": "stdout",
          "text": [
            "VGG(\n",
            "  (features): Sequential(\n",
            "    (0): Conv2d(3, 64, kernel_size=(3, 3), stride=(1, 1), padding=(1, 1))\n",
            "    (1): ReLU(inplace=True)\n",
            "    (2): Conv2d(64, 64, kernel_size=(3, 3), stride=(1, 1), padding=(1, 1))\n",
            "    (3): ReLU(inplace=True)\n",
            "    (4): MaxPool2d(kernel_size=2, stride=2, padding=0, dilation=1, ceil_mode=False)\n",
            "    (5): Conv2d(64, 128, kernel_size=(3, 3), stride=(1, 1), padding=(1, 1))\n",
            "    (6): ReLU(inplace=True)\n",
            "    (7): Conv2d(128, 128, kernel_size=(3, 3), stride=(1, 1), padding=(1, 1))\n",
            "    (8): ReLU(inplace=True)\n",
            "    (9): MaxPool2d(kernel_size=2, stride=2, padding=0, dilation=1, ceil_mode=False)\n",
            "    (10): Conv2d(128, 256, kernel_size=(3, 3), stride=(1, 1), padding=(1, 1))\n",
            "    (11): ReLU(inplace=True)\n",
            "    (12): Conv2d(256, 256, kernel_size=(3, 3), stride=(1, 1), padding=(1, 1))\n",
            "    (13): ReLU(inplace=True)\n",
            "    (14): Conv2d(256, 256, kernel_size=(3, 3), stride=(1, 1), padding=(1, 1))\n",
            "    (15): ReLU(inplace=True)\n",
            "    (16): MaxPool2d(kernel_size=2, stride=2, padding=0, dilation=1, ceil_mode=False)\n",
            "    (17): Conv2d(256, 512, kernel_size=(3, 3), stride=(1, 1), padding=(1, 1))\n",
            "    (18): ReLU(inplace=True)\n",
            "    (19): Conv2d(512, 512, kernel_size=(3, 3), stride=(1, 1), padding=(1, 1))\n",
            "    (20): ReLU(inplace=True)\n",
            "    (21): Conv2d(512, 512, kernel_size=(3, 3), stride=(1, 1), padding=(1, 1))\n",
            "    (22): ReLU(inplace=True)\n",
            "    (23): MaxPool2d(kernel_size=2, stride=2, padding=0, dilation=1, ceil_mode=False)\n",
            "    (24): Conv2d(512, 512, kernel_size=(3, 3), stride=(1, 1), padding=(1, 1))\n",
            "    (25): ReLU(inplace=True)\n",
            "    (26): Conv2d(512, 512, kernel_size=(3, 3), stride=(1, 1), padding=(1, 1))\n",
            "    (27): ReLU(inplace=True)\n",
            "    (28): Conv2d(512, 512, kernel_size=(3, 3), stride=(1, 1), padding=(1, 1))\n",
            "    (29): ReLU(inplace=True)\n",
            "    (30): MaxPool2d(kernel_size=2, stride=2, padding=0, dilation=1, ceil_mode=False)\n",
            "  )\n",
            "  (avgpool): AdaptiveAvgPool2d(output_size=(7, 7))\n",
            "  (classifier): Sequential(\n",
            "    (0): Linear(in_features=25088, out_features=4096, bias=True)\n",
            "    (1): ReLU(inplace=True)\n",
            "    (2): Dropout(p=0.5, inplace=False)\n",
            "    (3): Linear(in_features=4096, out_features=4096, bias=True)\n",
            "    (4): ReLU(inplace=True)\n",
            "    (5): Dropout(p=0.5, inplace=False)\n",
            "    (6): Linear(in_features=4096, out_features=3, bias=True)\n",
            "  )\n",
            ")\n"
          ]
        }
      ],
      "source": [
        "# Envia o modelo para a GPU, se disponível\n",
        "if DEVICE.type == 'cuda':\n",
        "    model = model.to('cuda')  # Utiliza CUDA para GPU\n",
        "\n",
        "# Imprime o modelo\n",
        "print(model)\n"
      ]
    },
    {
      "cell_type": "markdown",
      "metadata": {
        "id": "ZPj_0FMp0hug"
      },
      "source": [
        "## Loss function and optimizer"
      ]
    },
    {
      "cell_type": "code",
      "execution_count": null,
      "metadata": {
        "id": "-c7hjfDX0iC3"
      },
      "outputs": [],
      "source": [
        "# Função de perda\n",
        "criterion = nn.CrossEntropyLoss()\n",
        "\n",
        "# Otimizador\n",
        "optimizer = optim.SGD(model.parameters(), lr=lr, momentum=mm)"
      ]
    },
    {
      "cell_type": "markdown",
      "metadata": {
        "id": "VV93lOq11O0K"
      },
      "source": [
        "## Training the model\n",
        "---"
      ]
    },
    {
      "cell_type": "code",
      "execution_count": null,
      "metadata": {
        "id": "dZUu_39A1OUK",
        "colab": {
          "base_uri": "https://localhost:8080/"
        },
        "outputId": "08383246-ab63-4f1d-e62a-82518066acbc"
      },
      "outputs": [
        {
          "output_type": "stream",
          "name": "stdout",
          "text": [
            "Epoch 0/49 - TRAIN Loss: 0.7595 TRAIN Acc: 0.6755 - VAL. Loss: 0.6193 VAL. Acc: 0.7516 (1538.5950 seconds)\n",
            "Epoch 1/49 - TRAIN Loss: 0.5651 TRAIN Acc: 0.7726 - VAL. Loss: 0.4541 VAL. Acc: 0.8435 (101.4789 seconds)\n",
            "Epoch 2/49 - TRAIN Loss: 0.4951 TRAIN Acc: 0.8141 - VAL. Loss: 0.4321 VAL. Acc: 0.8489 (103.7997 seconds)\n",
            "Epoch 3/49 - TRAIN Loss: 0.4128 TRAIN Acc: 0.8531 - VAL. Loss: 0.3759 VAL. Acc: 0.8738 (103.6921 seconds)\n",
            "Epoch 4/49 - TRAIN Loss: 0.3796 TRAIN Acc: 0.8621 - VAL. Loss: 0.3414 VAL. Acc: 0.8902 (103.3694 seconds)\n",
            "Epoch 5/49 - TRAIN Loss: 0.3727 TRAIN Acc: 0.8624 - VAL. Loss: 0.5709 VAL. Acc: 0.7726 (104.2872 seconds)\n",
            "Epoch 6/49 - TRAIN Loss: 0.3371 TRAIN Acc: 0.8782 - VAL. Loss: 0.4449 VAL. Acc: 0.8294 (103.0282 seconds)\n",
            "Epoch 7/49 - TRAIN Loss: 0.2941 TRAIN Acc: 0.8936 - VAL. Loss: 0.3775 VAL. Acc: 0.8645 (104.0717 seconds)\n",
            "Epoch 8/49 - TRAIN Loss: 0.2734 TRAIN Acc: 0.9008 - VAL. Loss: 0.5816 VAL. Acc: 0.7889 (104.4489 seconds)\n",
            "Epoch 9/49 - TRAIN Loss: 0.2727 TRAIN Acc: 0.9058 - VAL. Loss: 0.2936 VAL. Acc: 0.8933 (104.0726 seconds)\n",
            "Epoch 10/49 - TRAIN Loss: 0.2346 TRAIN Acc: 0.9193 - VAL. Loss: 0.2571 VAL. Acc: 0.9050 (103.8850 seconds)\n",
            "Epoch 11/49 - TRAIN Loss: 0.2302 TRAIN Acc: 0.9185 - VAL. Loss: 0.2066 VAL. Acc: 0.9315 (104.5566 seconds)\n",
            "Epoch 12/49 - TRAIN Loss: 0.2174 TRAIN Acc: 0.9234 - VAL. Loss: 0.2392 VAL. Acc: 0.9174 (103.4523 seconds)\n",
            "Epoch 13/49 - TRAIN Loss: 0.2102 TRAIN Acc: 0.9211 - VAL. Loss: 0.2274 VAL. Acc: 0.9237 (102.7740 seconds)\n",
            "Epoch 14/49 - TRAIN Loss: 0.1852 TRAIN Acc: 0.9395 - VAL. Loss: 0.2548 VAL. Acc: 0.9112 (103.6880 seconds)\n",
            "Epoch 15/49 - TRAIN Loss: 0.1815 TRAIN Acc: 0.9351 - VAL. Loss: 0.1859 VAL. Acc: 0.9361 (104.4806 seconds)\n",
            "Epoch 16/49 - TRAIN Loss: 0.1797 TRAIN Acc: 0.9372 - VAL. Loss: 0.2042 VAL. Acc: 0.9276 (103.8159 seconds)\n",
            "Epoch 17/49 - TRAIN Loss: 0.1645 TRAIN Acc: 0.9400 - VAL. Loss: 0.2150 VAL. Acc: 0.9322 (103.2153 seconds)\n",
            "Epoch 18/49 - TRAIN Loss: 0.1540 TRAIN Acc: 0.9486 - VAL. Loss: 0.2118 VAL. Acc: 0.9299 (105.0306 seconds)\n",
            "Epoch 19/49 - TRAIN Loss: 0.1347 TRAIN Acc: 0.9528 - VAL. Loss: 0.2204 VAL. Acc: 0.9299 (103.3619 seconds)\n",
            "Epoch 20/49 - TRAIN Loss: 0.1483 TRAIN Acc: 0.9489 - VAL. Loss: 0.1727 VAL. Acc: 0.9369 (103.3741 seconds)\n",
            "Epoch 21/49 - TRAIN Loss: 0.1313 TRAIN Acc: 0.9525 - VAL. Loss: 0.2091 VAL. Acc: 0.9377 (103.7991 seconds)\n",
            "Epoch 22/49 - TRAIN Loss: 0.1266 TRAIN Acc: 0.9556 - VAL. Loss: 0.2110 VAL. Acc: 0.9361 (103.7606 seconds)\n",
            "Epoch 23/49 - TRAIN Loss: 0.1153 TRAIN Acc: 0.9595 - VAL. Loss: 0.2366 VAL. Acc: 0.9385 (102.9314 seconds)\n",
            "Epoch 24/49 - TRAIN Loss: 0.1005 TRAIN Acc: 0.9629 - VAL. Loss: 0.2177 VAL. Acc: 0.9338 (105.0539 seconds)\n",
            "Epoch 25/49 - TRAIN Loss: 0.0958 TRAIN Acc: 0.9663 - VAL. Loss: 0.2149 VAL. Acc: 0.9315 (103.4833 seconds)\n",
            "Epoch 26/49 - TRAIN Loss: 0.0869 TRAIN Acc: 0.9673 - VAL. Loss: 0.2181 VAL. Acc: 0.9431 (103.8430 seconds)\n",
            "Epoch 27/49 - TRAIN Loss: 0.0841 TRAIN Acc: 0.9686 - VAL. Loss: 0.2209 VAL. Acc: 0.9424 (104.4836 seconds)\n",
            "Epoch 28/49 - TRAIN Loss: 0.0843 TRAIN Acc: 0.9665 - VAL. Loss: 0.1731 VAL. Acc: 0.9455 (103.8647 seconds)\n",
            "Epoch 29/49 - TRAIN Loss: 0.0830 TRAIN Acc: 0.9717 - VAL. Loss: 0.2558 VAL. Acc: 0.9330 (103.0231 seconds)\n",
            "Epoch 30/49 - TRAIN Loss: 0.1041 TRAIN Acc: 0.9639 - VAL. Loss: 0.1648 VAL. Acc: 0.9463 (105.0305 seconds)\n",
            "Epoch 31/49 - TRAIN Loss: 0.0706 TRAIN Acc: 0.9764 - VAL. Loss: 0.2390 VAL. Acc: 0.9400 (102.5523 seconds)\n",
            "Epoch 32/49 - TRAIN Loss: 0.0865 TRAIN Acc: 0.9652 - VAL. Loss: 0.2865 VAL. Acc: 0.9252 (103.7417 seconds)\n",
            "Epoch 33/49 - TRAIN Loss: 0.0685 TRAIN Acc: 0.9769 - VAL. Loss: 0.2431 VAL. Acc: 0.9424 (103.5570 seconds)\n",
            "Epoch 34/49 - TRAIN Loss: 0.0768 TRAIN Acc: 0.9712 - VAL. Loss: 0.1899 VAL. Acc: 0.9338 (101.5991 seconds)\n",
            "Epoch 35/49 - TRAIN Loss: 0.0615 TRAIN Acc: 0.9779 - VAL. Loss: 0.2247 VAL. Acc: 0.9424 (101.1117 seconds)\n",
            "Epoch 36/49 - TRAIN Loss: 0.0486 TRAIN Acc: 0.9823 - VAL. Loss: 0.2290 VAL. Acc: 0.9400 (102.6843 seconds)\n",
            "Epoch 37/49 - TRAIN Loss: 0.0512 TRAIN Acc: 0.9816 - VAL. Loss: 0.3086 VAL. Acc: 0.9291 (101.2492 seconds)\n",
            "Epoch 38/49 - TRAIN Loss: 0.0602 TRAIN Acc: 0.9803 - VAL. Loss: 0.2301 VAL. Acc: 0.9338 (101.0987 seconds)\n",
            "Epoch 39/49 - TRAIN Loss: 0.0621 TRAIN Acc: 0.9774 - VAL. Loss: 0.1903 VAL. Acc: 0.9509 (101.3041 seconds)\n",
            "Epoch 40/49 - TRAIN Loss: 0.0515 TRAIN Acc: 0.9831 - VAL. Loss: 0.2213 VAL. Acc: 0.9447 (103.6729 seconds)\n",
            "Epoch 41/49 - TRAIN Loss: 0.0554 TRAIN Acc: 0.9813 - VAL. Loss: 0.2949 VAL. Acc: 0.9159 (102.0367 seconds)\n",
            "Epoch 42/49 - TRAIN Loss: 0.0637 TRAIN Acc: 0.9730 - VAL. Loss: 0.2061 VAL. Acc: 0.9455 (102.0613 seconds)\n",
            "Epoch 43/49 - TRAIN Loss: 0.0478 TRAIN Acc: 0.9826 - VAL. Loss: 0.2525 VAL. Acc: 0.9276 (102.9399 seconds)\n",
            "Epoch 44/49 - TRAIN Loss: 0.0480 TRAIN Acc: 0.9821 - VAL. Loss: 0.2489 VAL. Acc: 0.9291 (101.9723 seconds)\n",
            "Epoch 45/49 - TRAIN Loss: 0.0470 TRAIN Acc: 0.9821 - VAL. Loss: 0.2018 VAL. Acc: 0.9447 (103.5059 seconds)\n",
            "Epoch 46/49 - TRAIN Loss: 0.0498 TRAIN Acc: 0.9826 - VAL. Loss: 0.2267 VAL. Acc: 0.9361 (101.9172 seconds)\n",
            "Epoch 47/49 - TRAIN Loss: 0.0426 TRAIN Acc: 0.9818 - VAL. Loss: 0.2284 VAL. Acc: 0.9416 (101.1683 seconds)\n",
            "Epoch 48/49 - TRAIN Loss: 0.0365 TRAIN Acc: 0.9894 - VAL. Loss: 0.3006 VAL. Acc: 0.9338 (101.2704 seconds)\n",
            "Epoch 49/49 - TRAIN Loss: 0.0323 TRAIN Acc: 0.9883 - VAL. Loss: 0.2574 VAL. Acc: 0.9470 (101.5867 seconds)\n",
            "\n",
            "Treinamento finalizado. (109m and 52s)\n"
          ]
        }
      ],
      "source": [
        " # Tempo total do treinamento (treinamento e validação)\n",
        "time_total_start = time.time()\n",
        "\n",
        "# Lista das perdas (loss) e acurácias (accuracy) de trino para cada época.\n",
        "train_loss_list = []\n",
        "train_acc_list = []\n",
        "\n",
        "# Lista das perdas (loss) e acurácias (accuracy) de validação para cada época.\n",
        "val_loss_list = []\n",
        "val_acc_list = []\n",
        "\n",
        "for epoch in range(epochs):\n",
        "    # TREINAMENTO\n",
        "    # =========================================================================\n",
        "    # Inicia contagem de tempo da época\n",
        "    time_epoch_start = time.time()\n",
        "\n",
        "    # Habilita o modelo para o modo de treino\n",
        "    model.train()\n",
        "\n",
        "    # Perda (loss) nesta época\n",
        "    loss_epoch_train = 0.0\n",
        "    # Amostras classificadas corretamente nesta época\n",
        "    num_hits_epoch_train = 0\n",
        "\n",
        "    # Iterate along the batches of the TRAINING SET\n",
        "    for inputs, labels in train_dataloader:\n",
        "\n",
        "        if DEVICE.type == 'cuda':\n",
        "            inputs = inputs.to(DEVICE)\n",
        "            labels = labels.to(DEVICE)\n",
        "\n",
        "        # Zera os parametros do gradiente\n",
        "        optimizer.zero_grad()\n",
        "\n",
        "        # FORWARD\n",
        "        # ------>\n",
        "        # Habilita o cálculo do gradiente\n",
        "        torch.set_grad_enabled(True)\n",
        "\n",
        "        # Saída do modelo para o lote\n",
        "        outputs = model(inputs)\n",
        "\n",
        "        # 'outputs' está em porcentagens. Tomar os maximos como resposta.\n",
        "        preds = torch.argmax(outputs, dim=1).float()\n",
        "\n",
        "        # Calcula a perda (loss)\n",
        "        loss = criterion(outputs, labels)\n",
        "\n",
        "        # BACKWARD\n",
        "        # <-------\n",
        "        loss.backward()\n",
        "\n",
        "        # Atualiza os parâmetros da rede\n",
        "        optimizer.step()\n",
        "\n",
        "        # Atualiza a perda da época\n",
        "        loss_epoch_train += float(loss.item()) * inputs.size(0)\n",
        "\n",
        "        # Atualiza o número de amostras classificadas corretamente na época.\n",
        "        num_hits_epoch_train += torch.sum(preds == labels.data)\n",
        "\n",
        "    # Perda desta época\n",
        "    train_loss = loss_epoch_train / train_size\n",
        "    # Acurácia desta época\n",
        "    train_acc = float(num_hits_epoch_train.double() / train_size)\n",
        "\n",
        "    # Store loss and accuracy in lists\n",
        "    train_loss_list.append(train_loss)\n",
        "    train_acc_list.append(train_acc)\n",
        "\n",
        "    # VALIDAÇÃO\n",
        "    # =========================================================================\n",
        "    model.eval()\n",
        "\n",
        "    # Pego o numero de perda e o numero de acertos\n",
        "    loss_epoch_val = 0.0 # Atual perda\n",
        "    num_hits_epoch_val = 0 # Numero de itens corretos\n",
        "\n",
        "    # Iterate along the batches of the VALIDATION SET\n",
        "    for inputs, labels in val_dataloader:\n",
        "\n",
        "        if DEVICE.type == 'cuda':\n",
        "            inputs = inputs.to(DEVICE)\n",
        "            labels = labels.to(DEVICE)\n",
        "\n",
        "        # Zera os parametros do gradiente\n",
        "        optimizer.zero_grad()\n",
        "\n",
        "        # Desabilita o cálculo do gradiente durante a validação.\n",
        "        torch.set_grad_enabled(False)\n",
        "\n",
        "        # Gero um tensor cujas linhas representam o tamanho do \"batch\" do input\n",
        "        outputs = model(inputs)\n",
        "\n",
        "        # Retorna a maior predicao.\n",
        "        #### _, preds = torch.max(outputs, 1)\n",
        "        preds = torch.argmax(outputs, dim=1).float()\n",
        "\n",
        "        # Calcula a perda (loss)\n",
        "        loss = criterion(outputs, labels)\n",
        "\n",
        "        # Atualiza a perda da época\n",
        "        loss_epoch_val += float(loss.item()) * inputs.size(0)\n",
        "        # # Atualiza os acertos da época\n",
        "        num_hits_epoch_val += torch.sum(preds == labels.data)\n",
        "\n",
        "    # Ajusta o learning rate\n",
        "    ### scheduler.step()\n",
        "\n",
        "    # Perda e acuracia do conjunto de validacao para esta época\n",
        "    val_loss = loss_epoch_val / val_size\n",
        "    val_acc = float(num_hits_epoch_val.double() / val_size)\n",
        "\n",
        "    # Store loss and accuracy in lists\n",
        "    val_loss_list.append(val_loss)\n",
        "    val_acc_list.append(val_acc)\n",
        "\n",
        "    # Tempo total desta época\n",
        "    time_epoch = time.time() - time_epoch_start\n",
        "\n",
        "    # PRINTING\n",
        "    # --------\n",
        "    print('Epoch {}/{} - TRAIN Loss: {:.4f} TRAIN Acc: {:.4f} - VAL. Loss: {:.4f} VAL. Acc: {:.4f} ({:.4f} seconds)'.format(epoch, epochs - 1, train_loss, train_acc, val_loss, val_acc, time_epoch))\n",
        "\n",
        "# Tempo total do treinamento\n",
        "time_total_train = time.time() - time_total_start\n",
        "\n",
        "# PRINTING\n",
        "print('\\nTreinamento finalizado. ({0}m and {1}s)'.format(int(time_total_train // 60), int(time_total_train % 60)))"
      ]
    },
    {
      "cell_type": "markdown",
      "metadata": {
        "id": "MFDFK5lO4n1J"
      },
      "source": [
        "## Analisando o treinamento\n",
        "---"
      ]
    },
    {
      "cell_type": "code",
      "execution_count": null,
      "metadata": {
        "id": "VtzV0lW-4oQZ",
        "colab": {
          "base_uri": "https://localhost:8080/",
          "height": 927
        },
        "outputId": "cab69755-7861-45b8-ea54-f758446d1543"
      },
      "outputs": [
        {
          "output_type": "display_data",
          "data": {
            "text/plain": [
              "<Figure size 640x480 with 1 Axes>"
            ],
            "image/png": "[encoded data removed]"
          },
          "metadata": {}
        },
        {
          "output_type": "display_data",
          "data": {
            "text/plain": [
              "<Figure size 640x480 with 1 Axes>"
            ],
            "image/png": "[encoded data removed]"
          },
          "metadata": {}
        }
      ],
      "source": [
        "# Lista com os indices das épocas. [0, 1, ... num_epochs - 1]\n",
        "epochs_list = []\n",
        "for i in range(len(train_loss_list)):\n",
        "    epochs_list.append(i)\n",
        "\n",
        "# Titulo - Loss and accuracy chart\n",
        "loss_title = 'Loss - ' + str(epochs) + ' epochs'\n",
        "acc_title = 'Accuracy - ' + str(epochs) + ' epochs'\n",
        "\n",
        "# Plot - Loss\n",
        "plt.figure()\n",
        "plt.title(loss_title)\n",
        "plt.plot(epochs_list, train_loss_list, c='magenta' ,ls='--', label='Train loss', fillstyle='none')\n",
        "plt.plot(epochs_list, val_loss_list, c='green' ,ls='--', label='Val. loss', fillstyle='none')\n",
        "plt.xlabel('Epochs')\n",
        "plt.ylabel('Loss')\n",
        "plt.legend(loc='best')\n",
        "plt.savefig('vgg_loss.pdf')\n",
        "\n",
        "# Plot - Accuracy\n",
        "plt.figure()\n",
        "plt.title(acc_title)\n",
        "plt.plot(epochs_list, train_acc_list, c='magenta' ,ls='-', label='Train acuracy', fillstyle='none')\n",
        "plt.plot(epochs_list, val_acc_list, c='green' ,ls='-', label='Val. accuracy', fillstyle='none')\n",
        "plt.xlabel('Epochs')\n",
        "plt.ylabel('Accuracy')\n",
        "plt.legend(loc='best')\n",
        "plt.savefig('vgg_acc.pdf')"
      ]
    },
    {
      "cell_type": "markdown",
      "metadata": {
        "id": "Rj-mjU_DVkGI"
      },
      "source": [
        "## Evaluating the model\n",
        "---"
      ]
    },
    {
      "cell_type": "code",
      "execution_count": null,
      "metadata": {
        "id": "P_c2zOtnVkeQ"
      },
      "outputs": [],
      "source": [
        "# Lista com as classes reais e classes preditas\n",
        "true_val_list = []\n",
        "pred_val_list = []\n",
        "# Lista com as probabilidades\n",
        "prob_val_list = []\n",
        "\n",
        "# Iterate along the batches of the VALIDATION SET\n",
        "for i, (img_list, labelList) in enumerate(val_dataloader):\n",
        "\n",
        "    if DEVICE.type == 'cuda':\n",
        "        img_list = img_list.to(DEVICE)\n",
        "        labelList = labelList.to(DEVICE)\n",
        "\n",
        "    # Desabilita o cálculo do gradiente durante validação e testes.\n",
        "    torch.set_grad_enabled(False)\n",
        "\n",
        "    # -----> FORWARD\n",
        "    # Saída do modelo\n",
        "    outputs = model(img_list)\n",
        "\n",
        "    # Predição\n",
        "    ### _, preds = torch.max(output, 1)\n",
        "    preds = torch.argmax(outputs, dim=1)\n",
        "\n",
        "    # Calcula probabilidades\n",
        "    # https://discuss.pytorch.org/t/obtain-probabilities-from-cross-entropy-loss/157259\n",
        "    outputs_prob = nn.functional.softmax(outputs, dim=1)\n",
        "    prob_val_batch = np.asarray(outputs_prob.cpu())\n",
        "\n",
        "    # Classes reais true) e classes preditas (pred) para este lote.\n",
        "    if DEVICE.type == 'cuda':\n",
        "        true_val_batch = np.asarray(labelList.cpu())\n",
        "        pred_val_batch = np.asarray(preds.cpu())\n",
        "\n",
        "    # Itera ao longo do lote\n",
        "    for i in range(0, len(pred_val_batch)):\n",
        "        true_val_list.append(true_val_batch[i])\n",
        "        pred_val_list.append(pred_val_batch[i])\n",
        "\n",
        "        prob_val_list.append(prob_val_batch[i])"
      ]
    },
    {
      "cell_type": "markdown",
      "metadata": {
        "id": "egr-Wq0IP2uQ"
      },
      "source": [
        "## Confusion matrix and classification report\n",
        "---"
      ]
    },
    {
      "cell_type": "code",
      "execution_count": null,
      "metadata": {
        "id": "FT8UABAfP3HS",
        "colab": {
          "base_uri": "https://localhost:8080/"
        },
        "outputId": "f27fea55-b295-4001-8e94-7c2b1beeedb1"
      },
      "outputs": [
        {
          "output_type": "stream",
          "name": "stdout",
          "text": [
            "\n",
            "Confusion matrix ( validation)\n",
            "[[639  12  10]\n",
            " [ 37 410  11]\n",
            " [  4   0 161]]\n",
            "\n",
            "Class. report (validation)\n",
            "                     precision    recall  f1-score   support\n",
            "\n",
            "            Healthy     0.9397    0.9667    0.9530       661\n",
            "Diabrotica speciosa     0.9716    0.8952    0.9318       458\n",
            "        Caterpillar     0.8846    0.9758    0.9280       165\n",
            "\n",
            "           accuracy                         0.9424      1284\n",
            "          macro avg     0.9320    0.9459    0.9376      1284\n",
            "       weighted avg     0.9440    0.9424    0.9422      1284\n",
            "\n",
            "\n",
            "\n",
            "Validation Acc.: 0.9424\n"
          ]
        }
      ],
      "source": [
        "# Confusion matrix\n",
        "conf_mat_val = metrics.confusion_matrix(true_val_list, pred_val_list)\n",
        "print('\\nConfusion matrix ( validation)')\n",
        "print(conf_mat_val)\n",
        "\n",
        "# Classification report - Scikit-learn\n",
        "class_rep_val = metrics.classification_report(true_val_list, pred_val_list,\n",
        "                                              target_names=class_names, digits=4,\n",
        "                                              zero_division=0)\n",
        "print('\\nClass. report (validation)')\n",
        "print(class_rep_val)\n",
        "\n",
        "# Accuracy\n",
        "acc_val = metrics.accuracy_score(true_val_list, pred_val_list)\n",
        "print('\\n\\nValidation Acc.: {:.4f}'.format(acc_val))"
      ]
    }
  ],
  "metadata": {
    "accelerator": "GPU",
    "colab": {
      "provenance": []
    },
    "kernelspec": {
      "display_name": "Python 3",
      "name": "python3"
    },
    "language_info": {
      "codemirror_mode": {
        "name": "ipython",
        "version": 3
      },
      "file_extension": ".py",
      "mimetype": "text/x-python",
      "name": "python",
      "nbconvert_exporter": "python",
      "pygments_lexer": "ipython3",
      "version": "3.8.13"
    }
  },
  "nbformat": 4,
  "nbformat_minor": 0
}